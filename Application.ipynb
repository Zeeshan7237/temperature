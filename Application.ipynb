{
  "nbformat": 4,
  "nbformat_minor": 0,
  "metadata": {
    "colab": {
      "provenance": [],
      "authorship_tag": "ABX9TyOVymVB+WNEiKMeRUDJ0pOB",
      "include_colab_link": true
    },
    "kernelspec": {
      "name": "python3",
      "display_name": "Python 3"
    },
    "language_info": {
      "name": "python"
    }
  },
  "cells": [
    {
      "cell_type": "markdown",
      "metadata": {
        "id": "view-in-github",
        "colab_type": "text"
      },
      "source": [
        "<a href=\"https://colab.research.google.com/github/Zeeshan7237/temperature/blob/main/Application.ipynb\" target=\"_parent\"><img src=\"https://colab.research.google.com/assets/colab-badge.svg\" alt=\"Open In Colab\"/></a>"
      ]
    },
    {
      "cell_type": "code",
      "execution_count": 1,
      "metadata": {
        "colab": {
          "base_uri": "https://localhost:8080/"
        },
        "id": "LK1USVjHt93u",
        "outputId": "4799e878-9985-4b84-fb0f-1bfa41feaa2f"
      },
      "outputs": [
        {
          "output_type": "stream",
          "name": "stdout",
          "text": [
            "\n",
            "Temperature Converter\n",
            "---------------------\n",
            "1. Convert Celsius to Fahrenheit\n",
            "2. Convert Fahrenheit to Celsius\n",
            "3. Exit\n",
            "\n",
            "Choose an option (1, 2, or 3): 2\n",
            "Enter temperature in Fahrenheit: 20\n",
            "20.0°F is equal to -6.67°C\n",
            "\n",
            "Do you want to perform another conversion? (yes/no): y\n",
            "Thank you for using the temperature converter. Goodbye!\n"
          ]
        }
      ],
      "source": [
        "def convert_temperature(temp, unit):\n",
        "    \"\"\"Convert temperature between Celsius and Fahrenheit.\"\"\"\n",
        "    if unit.lower() == \"c\":\n",
        "        # Celsius to Fahrenheit\n",
        "        return (temp * 9/5) + 32\n",
        "    elif unit.lower() == \"f\":\n",
        "        # Fahrenheit to Celsius\n",
        "        return (temp - 32) * 5/9\n",
        "    else:\n",
        "        return None\n",
        "\n",
        "def display_menu():\n",
        "    \"\"\"Display the options menu.\"\"\"\n",
        "    print(\"\\nTemperature Converter\")\n",
        "    print(\"---------------------\")\n",
        "    print(\"1. Convert Celsius to Fahrenheit\")\n",
        "    print(\"2. Convert Fahrenheit to Celsius\")\n",
        "    print(\"3. Exit\")\n",
        "    print()\n",
        "\n",
        "def main():\n",
        "    \"\"\"Main function to run the converter.\"\"\"\n",
        "    while True:\n",
        "        display_menu()\n",
        "        choice = input(\"Choose an option (1, 2, or 3): \")\n",
        "\n",
        "        if choice == \"1\":\n",
        "            temp_input = float(input(\"Enter temperature in Celsius: \"))\n",
        "            converted_temp = convert_temperature(temp_input, \"c\")\n",
        "            print(f\"{temp_input}°C is equal to {converted_temp:.2f}°F\\n\")\n",
        "\n",
        "        elif choice == \"2\":\n",
        "            temp_input = float(input(\"Enter temperature in Fahrenheit: \"))\n",
        "            converted_temp = convert_temperature(temp_input, \"f\")\n",
        "            print(f\"{temp_input}°F is equal to {converted_temp:.2f}°C\\n\")\n",
        "\n",
        "        elif choice == \"3\":\n",
        "            print(\"Exiting the program.\")\n",
        "            break\n",
        "\n",
        "        else:\n",
        "            print(\"Invalid option. Please choose 1, 2, or 3.\\n\")\n",
        "            continue\n",
        "\n",
        "        # Ask if the user wants to continue\n",
        "        continue_choice = input(\"Do you want to perform another conversion? (yes/no): \").lower()\n",
        "        if continue_choice != \"yes\":\n",
        "            print(\"Thank you for using the temperature converter. Goodbye!\")\n",
        "            break\n",
        "\n",
        "if __name__ == \"__main__\":\n",
        "    main()\n"
      ]
    },
    {
      "cell_type": "code",
      "source": [],
      "metadata": {
        "id": "6qEVi2UtxhO_"
      },
      "execution_count": null,
      "outputs": []
    }
  ]
}